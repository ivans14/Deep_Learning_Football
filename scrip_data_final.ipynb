{
 "cells": [
  {
   "cell_type": "code",
   "execution_count": null,
   "metadata": {},
   "outputs": [],
   "source": [
    "# importing the module\n",
    "import cv2\n",
    "import pandas as pd\n",
    "import numpy as np\n",
    "import random as rnd\n",
    "import os\n",
    "from PIL import Image\n",
    "from sklearn.mixture import GaussianMixture\n",
    "from sklearn.cluster import KMeans\n",
    "import matplotlib.pyplot as plt\n",
    "import shutil\n"
   ]
  },
  {
   "cell_type": "code",
   "execution_count": null,
   "metadata": {},
   "outputs": [],
   "source": [
    "\n",
    "def calc_mean(frame, toplx, toply , wid, heig):\n",
    "    ######\n",
    "    # function to calculate the mean color inside a box \n",
    "    ######\n",
    "    # frame: number of the fram for find the file in the pc\n",
    "    # toplx: top left corner x coordinate of the box\n",
    "    # toply: top left corner y coordinate of the box\n",
    "    # wid: width of the box\n",
    "    # heig: height of the box\n",
    "    ######\n",
    "\n",
    "    eps = 3 # width of the frame to ignore\n",
    "\n",
    "    xA, xB = toplx + eps , toplx + wid - eps  # find the coordinate of the corners\n",
    "    if xA >= xB : xB = xA + eps # negative length check\n",
    "    yA, yB = toply + eps , toply + heig - eps \n",
    "    if yA >= yB : yB = yA + eps\n",
    "\n",
    "    path_imm = '/media/alb/Elements/DATASET/SoccerNet/tracking/input/img1/{}.jpg'.format(str(frame).zfill(6))\n",
    "    im = Image.open(path_imm)\n",
    "    im_array = np.array(im)\n",
    "    #print('shape: ',im_array.shape)\n",
    "    #print('xA, xB, yA, yB\\n', xA, xB, yA, yB)\n",
    "    #print(im_array[xA:xB,yA:yB,0])\n",
    "    lev3_mean = np.array([np.round(np.mean(im_array[yA:yB,xA:xB,i])) for i in range(im_array.shape[2])]) # mean compute\n",
    "\n",
    "    return lev3_mean\n",
    "\n",
    "\n",
    "\n",
    "def mod_dataset(det: pd.DataFrame , gt: pd.DataFrame, i=0):\n",
    "    ######\n",
    "    # function to calculate all the modification to the dataset\n",
    "    ######\n",
    "    # det: table det in the original dataset\n",
    "    # gt: table gt in the original dataset\n",
    "    # i: index (not used in this version)\n",
    "    ######\n",
    "\n",
    "\n",
    "    gt['area']= gt.width * gt.height # adding area column\n",
    "    gt['dim_sum']= np.abs(gt.width + gt.height) # adding sum of dimensions column\n",
    "    gt['dim_diff']= np.abs(gt.width - gt.height) # adding difference of dimensions column\n",
    "    gt_track_id = gt.groupby('track_id').mean() # grouping by track id to find the mean dim of each entity\n",
    "    gt_count_frame = gt.groupby('track_id').count() # groping by track id to find the most frequent id\n",
    "\n",
    "    # aggiungere un check di sicurezza ?\n",
    "    dim_ok = gt_track_id[(gt_track_id.dim_sum < 50) & (gt_track_id.dim_diff < 5)] # filter for dimension, should be almost a square\n",
    "\n",
    "\n",
    "    #res=gt_count_frame[gt_count_frame['acc'] == gt_count_frame.max().acc] # indice della palla\n",
    "    res = dim_ok\n",
    "\n",
    "    list_frames = gt[gt.track_id == res.index[0]].frame # finding the track id of ball\n",
    "\n",
    "    for frame in list_frames:\n",
    "        actual_frame = gt[(gt.track_id == res.index[0]) & (gt.frame == frame)] # la riga effettiva delle informazioni sul frame e l'indice\n",
    "        gt.loc[(gt.width == actual_frame.width.values[0]) & (gt.frame == frame) &(gt.x_cord == actual_frame.x_cord.values[0]), 'ball_check'] = 1 # changing the value in the det table\n",
    "        det.loc[(det.frame == frame)&(det.width == actual_frame.width.values[0]) &(det.x_cord == actual_frame.x_cord.values[0]), 'ball_check'] = 1  # changing the value in the gt table\n",
    "\n",
    "    # computing labels for teams\n",
    "    new_c = det.apply(lambda row : calc_mean(row['frame'], row['x_cord'], row['y_cord'], row['width'], row['height']), axis=1)\n",
    "    X = np.array([list(a) for a in new_c.values])\n",
    "    gm = GaussianMixture(n_components=3, random_state=0).fit(X)\n",
    "    det['team_label'] = gm.predict(X)\n",
    "\n",
    "    gt.frame.map(lambda x: x + i*750)\n",
    "    det.frame.map(lambda x: x + i*750)\n",
    "\n",
    "    gt = gt.drop(['area', 'dim_sum', 'dim_diff', 'unk2', 'unk3'], axis=1)\n",
    "    det = det.drop(['unk2', 'unk3'], axis=1)\n",
    "    \n",
    "    return det, gt \n"
   ]
  },
  {
   "cell_type": "code",
   "execution_count": null,
   "metadata": {},
   "outputs": [],
   "source": [
    "input_path_det = '/media/alb/Elements/DATASET/SoccerNet/tracking/input/det/det.txt'\n",
    "input_path_gt = '/media/alb/Elements/DATASET/SoccerNet/tracking/input/gt/gt.txt'\n",
    "input_path_img = '/media/alb/Elements/DATASET/SoccerNet/tracking/input/img1'\n",
    "\n",
    "\n",
    "\n",
    "input_gt = pd.read_csv(input_path_gt, header= None, names=['frame', 'track_id', 'x_cord', 'y_cord', 'width', 'height', 'acc', 'unk2', 'unk3', 'ball_check'], index_col=False)\n",
    "input_det = pd.read_csv(input_path_det, header= None, names=['frame', 'unk1', 'x_cord', 'y_cord', 'width', 'height', 'acc', 'unk2', 'unk3', 'ball_check'], index_col=False)\n",
    "\n",
    "output_det, output_gt = mod_dataset(input_det, input_gt)"
   ]
  },
  {
   "cell_type": "code",
   "execution_count": null,
   "metadata": {},
   "outputs": [],
   "source": [
    "output_det"
   ]
  },
  {
   "cell_type": "code",
   "execution_count": null,
   "metadata": {},
   "outputs": [],
   "source": [
    "output_path_gt = '/media/alb/Elements/DATASET/SoccerNet/tracking/output/gt/gt.txt'\n",
    "output_path_det = '/media/alb/Elements/DATASET/SoccerNet/tracking/output/det/det.txt'\n",
    "output_path_img = '/media/alb/Elements/DATASET/SoccerNet/tracking/output/img1'\n",
    "\n",
    "\n",
    "out_files = os.listdir(output_path_img)\n",
    "for o_f in out_files:\n",
    "    os.remove(output_path_img + '/' + o_f)\n",
    "\n",
    "\n",
    "files = os.listdir(input_path_img)\n",
    "for f in files:\n",
    "    shutil.copy(input_path_img + '/' + f, output_path_img)\n",
    "\n",
    "output_det.to_csv(output_path_det)\n",
    "output_gt.to_csv(output_path_gt)"
   ]
  },
  {
   "cell_type": "code",
   "execution_count": null,
   "metadata": {},
   "outputs": [],
   "source": []
  }
 ],
 "metadata": {
  "kernelspec": {
   "display_name": "Python 3",
   "language": "python",
   "name": "python3"
  },
  "language_info": {
   "name": "python",
   "version": "3.10.6 (main, Nov 14 2022, 16:10:14) [GCC 11.3.0]"
  },
  "orig_nbformat": 4,
  "vscode": {
   "interpreter": {
    "hash": "916dbcbb3f70747c44a77c7bcd40155683ae19c65e1c03b4aa3499c5328201f1"
   }
  }
 },
 "nbformat": 4,
 "nbformat_minor": 2
}
