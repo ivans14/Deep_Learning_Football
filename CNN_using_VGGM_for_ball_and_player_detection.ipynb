{
  "cells": [
    {
      "cell_type": "markdown",
      "metadata": {
        "colab_type": "text",
        "id": "view-in-github"
      },
      "source": [
        "<a href=\"https://colab.research.google.com/github/ivans14/Deep_Learning_Proj/blob/main/CNN_using_VGGM_for_ball_and_player_detection.ipynb\" target=\"_parent\"><img src=\"https://colab.research.google.com/assets/colab-badge.svg\" alt=\"Open In Colab\"/></a>"
      ]
    },
    {
      "cell_type": "markdown",
      "id": "50e59f02",
      "metadata": {
        "id": "50e59f02"
      },
      "source": [
        "# Ball and players detection for SoccerNet\n",
        "### Using CNN and the pretained model VGGM"
      ]
    },
    {
      "cell_type": "code",
      "execution_count": 2,
      "id": "d98dbff6",
      "metadata": {
        "id": "d98dbff6"
      },
      "outputs": [],
      "source": [
        "import numpy as np\n",
        "import matplotlib.pyplot as plt\n",
        "import seaborn as sns\n",
        "from sklearn import metrics\n",
        "import torch.optim as optim\n",
        "import torch\n",
        "from torch import nn\n",
        "from torch.nn import LocalResponseNorm\n",
        "\n",
        "from sklearn import metrics"
      ]
    },
    {
      "cell_type": "code",
      "execution_count": null,
      "id": "IPN27JHX3Ra5",
      "metadata": {
        "id": "IPN27JHX3Ra5"
      },
      "outputs": [],
      "source": [
        "# Import dataset as: train, validation and test splits\n"
      ]
    },
    {
      "cell_type": "code",
      "execution_count": null,
      "id": "68c45f52",
      "metadata": {
        "id": "68c45f52"
      },
      "outputs": [],
      "source": [
        "# Check some info regarding the images\n"
      ]
    },
    {
      "cell_type": "code",
      "execution_count": 7,
      "id": "48c01c0f",
      "metadata": {
        "id": "48c01c0f"
      },
      "outputs": [
        {
          "name": "stdout",
          "output_type": "stream",
          "text": [
            "Model(\n",
            "  (net): Sequential(\n",
            "    (0): Conv2d(1, 16, kernel_size=(5, 5), stride=(2, 2))\n",
            "    (1): ReLU(inplace=True)\n",
            "    (2): LocalResponseNorm(2, alpha=0.0001, beta=0.75, k=1.0)\n",
            "    (3): MaxPool2d(kernel_size=2, stride=2, padding=0, dilation=1, ceil_mode=False)\n",
            "    (4): Conv2d(16, 28, kernel_size=(5, 5), stride=(2, 2))\n",
            "    (5): MaxPool2d(kernel_size=2, stride=2, padding=0, dilation=1, ceil_mode=False)\n",
            "    (6): ReLU(inplace=True)\n",
            "    (7): Linear(in_features=16128, out_features=2, bias=True)\n",
            "  )\n",
            ")\n"
          ]
        }
      ],
      "source": [
        "# CNN model\n",
        "out_features = 2 # Ball and players\n",
        "image_shape = (400, 400, 3)\n",
        "\n",
        "class Model(nn.Module):\n",
        "    def __init__(self,out_classes, image_size):\n",
        "        super().__init__()\n",
        "        self.out_classes = out_classes\n",
        "        H = image_size[0]\n",
        "        W = image_size[1]\n",
        "        C = image_size[2]\n",
        "\n",
        "        conv1 = {\n",
        "            \"in\": 1,\n",
        "            \"out\": 16,\n",
        "            \"kernel\": 5,\n",
        "            \"stride\": 2,\n",
        "            \"padding\": 0\n",
        "        }\n",
        "        conv2 = {\n",
        "            \"in\":conv1[\"out\"],\n",
        "            \"out\": 28,\n",
        "            \"kernel\": 5,\n",
        "            \"stride\": 2,\n",
        "            \"padding\": 0\n",
        "        }\n",
        "        pool = {\n",
        "            \"kernel\": 2,\n",
        "            \"stride\": 2,\n",
        "            \"padding\": 0\n",
        "        }\n",
        "\n",
        "        conv_param = [conv1,pool,conv2,pool]\n",
        "\n",
        "        for i in range (0, len(conv_param)):\n",
        "            H = np.floor((H + 2*conv_param[i][\"padding\"] - conv_param[i][\"kernel\"])/conv_param[i][\"stride\"] + 1)\n",
        "            W = np.floor((W + 2*conv_param[i][\"padding\"] - conv_param[i][\"kernel\"])/conv_param[i][\"stride\"] + 1)\n",
        "\n",
        "\n",
        "        activation_fn = nn.ReLU(0.1)\n",
        "        # Defining a Sequential pipeline for the entire CNN\n",
        "        self.net = nn.Sequential(\n",
        "            nn.Conv2d(in_channels = conv_param[0][\"in\"],\n",
        "                     out_channels = conv_param[0][\"out\"],\n",
        "                     kernel_size = conv_param[0][\"kernel\"],\n",
        "                     stride= conv_param[0][\"stride\"],\n",
        "                     padding= conv_param[0][\"padding\"]),\n",
        "            activation_fn,\n",
        "            LocalResponseNorm(2),   # Check: https://towardsdatascience.com/difference-between-local-response-normalization-and-batch-normalization-272308c034ac\n",
        "            nn.MaxPool2d(kernel_size = conv_param[1][\"kernel\"],\n",
        "                        stride =conv_param[1][\"stride\"]),\n",
        "            \n",
        "            nn.Conv2d(in_channels = conv_param[2][\"in\"],\n",
        "                     out_channels = conv_param[2][\"out\"],\n",
        "                     kernel_size = conv_param[2][\"kernel\"],\n",
        "                     stride= conv_param[2][\"stride\"],\n",
        "                     padding= conv_param[2][\"padding\"]),\n",
        "            nn.MaxPool2d(kernel_size = conv_param[3][\"kernel\"],\n",
        "                        stride =conv_param[3][\"stride\"]),\n",
        "            \n",
        "            #nn.Flatten(), # Flattens a contiguous range of dims into a tensor.\n",
        "            # FFNN\n",
        "            activation_fn,\n",
        "            nn.Linear(int(conv_param[-2][\"out\"] * H * W), out_features),\n",
        "            # nn.Dropout(0.5),\n",
        "            # nn.Sigmoid(),\n",
        "            # nn.Linear(,self.out_classes),\n",
        "            # nn.Dropout(0.25),\n",
        "            # nn.Sigmoid()\n",
        "        )\n",
        "\n",
        "\n",
        "    def forward(self, x):\n",
        "\n",
        "      return nn.Softmax(self.net(x))\n",
        "\n",
        "NN = Model(out_features, image_shape)\n",
        "device = device = torch.device('cuda') if torch.cuda.is_available() else torch.device('cpu')  # use cuda if possible\n",
        "NN.to(device)\n",
        "print(NN)\n",
        "\n",
        "# Definition of optimizer and loss functions\n",
        "optimizer = optim.Adam(NN.parameters(),lr=0.008)\n",
        "loss_fn = nn.CrossEntropyLoss() "
      ]
    },
    {
      "cell_type": "code",
      "execution_count": null,
      "id": "954c4986",
      "metadata": {},
      "outputs": [],
      "source": [
        "## VGGM pre-trained model\n"
      ]
    },
    {
      "cell_type": "code",
      "execution_count": null,
      "id": "ismoSfa33bBb",
      "metadata": {
        "id": "ismoSfa33bBb"
      },
      "outputs": [],
      "source": [
        "# Define training function\n",
        "# HOLA \n",
        "# adios\n",
        "\n",
        "def accuracy(target, pred):\n",
        "    return metrics.accuracy_score(target.detach().cpu().numpy(), pred.detach().cpu().numpy())\n",
        "\n",
        "# Set number of epochs according to computational power, time and results.\n",
        "batch_size = 64\n",
        "num_epochs = 4\n",
        "validation_every_steps = 500\n",
        "\n",
        "step = 0\n",
        "NN.train()\n",
        "\n",
        "train_accuracies = []\n",
        "valid_accuracies = []\n",
        "running_loss = 0\n",
        "\n",
        "\n",
        "\n",
        "for epoch in range(num_epochs):\n",
        "    \n",
        "    train_accuracies_batches = []\n",
        "    train_loss_batches = []\n",
        "    \n",
        "    for inputs, targets in train_loader:\n",
        "        inputs, targets = inputs.to(device), targets.to(device)\n",
        "        \n",
        "        # Forward pass, compute gradients, perform one training step.\n",
        "        # Your code here!\n",
        "        output = NN(inputs) # Pass the inouts through the NN\n",
        "        loss = loss_fn(output,targets) # Compute and Save loss\n",
        "        optimizer.zero_grad() #Clean up gradients\n",
        "        loss.backward() # Compute gradients based on the loss from the current batch\n",
        "        optimizer.step()\n",
        "        running_loss += loss.item()\n",
        "\n",
        "        # Increment step counter\n",
        "        step += 1\n",
        "        \n",
        "        # Compute accuracy.\n",
        "        predictions = output.max(1)[1]\n",
        "        train_accuracies_batches.append(accuracy(targets, predictions))\n",
        "        \n",
        "        if step % validation_every_steps == 0:\n",
        "            \n",
        "            validation_loss = 0\n",
        "            # Append average training accuracy to list.\n",
        "            train_accuracies.append(np.mean(train_accuracies_batches))\n",
        "            \n",
        "            train_accuracies_batches = []\n",
        "        \n",
        "            # Compute accuracies on validation set.\n",
        "            valid_accuracies_batches = []\n",
        "            with torch.no_grad():\n",
        "                NN.eval()\n",
        "                for inputs, targets in test_loader:\n",
        "                    inputs, targets = inputs.to(device), targets.to(device)\n",
        "                    output = NN(inputs)\n",
        "                    loss = loss_fn(output, targets)\n",
        "\n",
        "                    predictions = output.max(1)[1]\n",
        "\n",
        "                    # Multiply by len(x) because the final batch of DataLoader may be smaller (drop_last=False).\n",
        "                    valid_accuracies_batches.append(accuracy(targets, predictions) * len(inputs))\n",
        "\n",
        "                NN.train()\n",
        "                \n",
        "            # Append average validation accuracy to list.\n",
        "            valid_accuracies.append(np.sum(valid_accuracies_batches) / len(test_set))\n",
        "     \n",
        "            print(f\"Step {step:<5}   training accuracy: {train_accuracies[-1]}\")\n",
        "            print(f\"             test accuracy: {valid_accuracies[-1]}\")\n",
        "\n",
        "# Save model (i.e. its weights)\n",
        "torch.save(NN.state_dict(), 'trained_models/CNN_weights.pth')\n",
        "print(\"Finished training.\")"
      ]
    }
  ],
  "metadata": {
    "colab": {
      "collapsed_sections": [],
      "include_colab_link": true,
      "provenance": []
    },
    "kernelspec": {
      "display_name": "Python 3.8.8 ('base')",
      "language": "python",
      "name": "python3"
    },
    "language_info": {
      "codemirror_mode": {
        "name": "ipython",
        "version": 3
      },
      "file_extension": ".py",
      "mimetype": "text/x-python",
      "name": "python",
      "nbconvert_exporter": "python",
      "pygments_lexer": "ipython3",
      "version": "3.8.8"
    },
    "vscode": {
      "interpreter": {
        "hash": "ad2bdc8ecc057115af97d19610ffacc2b4e99fae6737bb82f5d7fb13d2f2c186"
      }
    }
  },
  "nbformat": 4,
  "nbformat_minor": 5
}
